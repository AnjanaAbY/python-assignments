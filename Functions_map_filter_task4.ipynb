{
  "nbformat": 4,
  "nbformat_minor": 0,
  "metadata": {
    "colab": {
      "provenance": [],
      "authorship_tag": "ABX9TyN9tG8Lub816xX3C8TJ5l6x",
      "include_colab_link": true
    },
    "kernelspec": {
      "name": "python3",
      "display_name": "Python 3"
    },
    "language_info": {
      "name": "python"
    }
  },
  "cells": [
    {
      "cell_type": "markdown",
      "metadata": {
        "id": "view-in-github",
        "colab_type": "text"
      },
      "source": [
        "<a href=\"https://colab.research.google.com/github/AnjanaAbY/python-assignments/blob/main/Functions_map_filter_task4.ipynb\" target=\"_parent\"><img src=\"https://colab.research.google.com/assets/colab-badge.svg\" alt=\"Open In Colab\"/></a>"
      ]
    },
    {
      "cell_type": "markdown",
      "source": [
        "Exercise 1: Create a function with a default argument\n",
        "\n",
        "Write a program to create a function show_employee() using the following\n",
        "conditions.\n",
        "\n",
        "*   It should accept the employee’s name and salary and display both.\n",
        "*   If the salary is missing in the function call then assign default value 9000\n",
        "to salary\n",
        "\n",
        "Given:\n",
        "\n",
        "showEmployee(\"Ben\", 12000)\n",
        "\n",
        "showEmployee(\"Jessa\")\n",
        "\n",
        "Expected output:\n",
        "\n",
        "Name: Ben salary: 12000\n",
        "\n",
        "Name: Jessa salary: 9000"
      ],
      "metadata": {
        "id": "cE4Ukdieakn3"
      }
    },
    {
      "cell_type": "code",
      "execution_count": null,
      "metadata": {
        "colab": {
          "base_uri": "https://localhost:8080/"
        },
        "id": "0Ka_rKZWaj3z",
        "outputId": "13c3ac5d-6556-4631-d067-34a6323b183e"
      },
      "outputs": [
        {
          "output_type": "stream",
          "name": "stdout",
          "text": [
            "Name: Ben Salary: 12000\n",
            "Name: Jessa Salary: 9000\n"
          ]
        }
      ],
      "source": [
        "def showEmployee(name,salary=9000):\n",
        "  print(\"Name:\",name,\"Salary:\",salary)\n",
        "showEmployee(\"Ben\",12000)\n",
        "showEmployee(\"Jessa\")"
      ]
    },
    {
      "cell_type": "markdown",
      "source": [
        "**Exercise 2: Create an inner function to calculate the addition in the following way**\n",
        "*   Create an outer function that will accept two parameters, a and b\n",
        "*   Create an inner function inside an outer function that will calculate the\n",
        "addition of a and b\n",
        "*   At last, an outer function will add 5 into addition and return it\n",
        "\n",
        "\n",
        "\n",
        "\n"
      ],
      "metadata": {
        "id": "YPJgyxjQb3Cy"
      }
    },
    {
      "cell_type": "code",
      "source": [
        "def func(a,b):\n",
        "  def func1(j,k):\n",
        "    return j+k\n",
        "  add=func1(a,b)\n",
        "  out_fun=add+5\n",
        "  return out_fun\n",
        "n1=int(input(\"enter the 1st num:\"))\n",
        "n2=int(input(\"enter the 2nd num:\"))\n",
        "res=func(n1,n2)\n",
        "print(\"output=\",res)"
      ],
      "metadata": {
        "colab": {
          "base_uri": "https://localhost:8080/"
        },
        "id": "QIK760NvblhE",
        "outputId": "407f32bd-1658-4f02-d944-ec89e721865d"
      },
      "execution_count": null,
      "outputs": [
        {
          "output_type": "stream",
          "name": "stdout",
          "text": [
            "enter the 1st num:5\n",
            "enter the 2nd num:10\n",
            "output= 20\n"
          ]
        }
      ]
    },
    {
      "cell_type": "markdown",
      "source": [
        "**Exercise 3: Generate a Python list of all the even numbers\n",
        "between 4 to 30**"
      ],
      "metadata": {
        "id": "HwRARPVhcxuG"
      }
    },
    {
      "cell_type": "code",
      "source": [
        "l=[]\n",
        "for i in range(4,31):\n",
        "  if(i%2==0):\n",
        "    l.append(i)\n",
        "  else:\n",
        "    pass\n",
        "print(\"output list\",l)"
      ],
      "metadata": {
        "colab": {
          "base_uri": "https://localhost:8080/"
        },
        "id": "4ZLajzPkcqEF",
        "outputId": "6d1f6fdc-bb6b-4a11-82dc-9dc5f28666e1"
      },
      "execution_count": null,
      "outputs": [
        {
          "output_type": "stream",
          "name": "stdout",
          "text": [
            "output list [4, 6, 8, 10, 12, 14, 16, 18, 20, 22, 24, 26, 28, 30]\n"
          ]
        }
      ]
    },
    {
      "cell_type": "markdown",
      "source": [
        "**Exercise 4: Lambda Function to Check if value is in a List**\n",
        "\n",
        "Given a list, the task is to write a Python program to check if the value exists in the list or not\n",
        "using the lambda function.\n",
        "\n",
        "Input : L = [1, 2, 3, 4, 5]\n",
        "\n",
        "element = 4\n",
        "\n",
        "Output : Element is Present in the list\n",
        "\n",
        "Input : L = [1, 2, 3, 4, 5]\n",
        "\n",
        "element = 8\n",
        "\n",
        "Output : Element is NOT Present in the list"
      ],
      "metadata": {
        "id": "bsONswW9UQXA"
      }
    },
    {
      "cell_type": "code",
      "source": [
        "L=[1,2,3,4,5]\n",
        "number=lambda value: value in L\n",
        "element=int(input(\"enter the number to be searched:\"))\n",
        "if number(element):\n",
        "  print(\"element is present in the list\")\n",
        "else:\n",
        "  print(\"element is not present in the list\")"
      ],
      "metadata": {
        "id": "eq0RCKyDc-0d",
        "colab": {
          "base_uri": "https://localhost:8080/"
        },
        "outputId": "d9838d6d-8ebb-42b2-8212-963c39e81532"
      },
      "execution_count": 2,
      "outputs": [
        {
          "output_type": "stream",
          "name": "stdout",
          "text": [
            "enter the number to be searched:3\n",
            "element is present in the list\n"
          ]
        }
      ]
    },
    {
      "cell_type": "markdown",
      "source": [
        "**Exercise 5: Sort list of tuples with their sum**\n",
        "\n",
        "Sort the points based on their sum of elements in the tuples\n",
        "\n",
        "points = [(1, 2), (5, 3), (0, 7), (3, 1)]"
      ],
      "metadata": {
        "id": "qhiGH85fU-sm"
      }
    },
    {
      "cell_type": "code",
      "source": [
        "points=[(1,2),(5,3),(0,7),(3,1)]\n",
        "points.sort(key=lambda x:x[0]+x[1])\n",
        "print(points)"
      ],
      "metadata": {
        "colab": {
          "base_uri": "https://localhost:8080/"
        },
        "id": "fQWoQVroU79V",
        "outputId": "8d4898b0-49ac-431f-db3d-2aac8845d69d"
      },
      "execution_count": 3,
      "outputs": [
        {
          "output_type": "stream",
          "name": "stdout",
          "text": [
            "[(1, 2), (3, 1), (0, 7), (5, 3)]\n"
          ]
        }
      ]
    },
    {
      "cell_type": "markdown",
      "source": [
        "**Exercise 6 :**\n",
        "\n",
        "Write a python function, which will find all such numbers between 1000 and 3000 (both included) such that each digit of the number is an even number. Return the results as a list"
      ],
      "metadata": {
        "id": "KPErCH3YVhh1"
      }
    },
    {
      "cell_type": "code",
      "source": [
        "def func(start,end):\n",
        "  evenNums=[]\n",
        "  for num in range(start,end+1):\n",
        "    num_str=str(num)\n",
        "    even=all(int(digit)%2==0 for digit in num_str)\n",
        "    if even:\n",
        "      evenNums.append(num)\n",
        "  return evenNums\n",
        "res=func(1000,3000)\n",
        "print(res)"
      ],
      "metadata": {
        "colab": {
          "base_uri": "https://localhost:8080/"
        },
        "id": "hTdHvRXYVc5X",
        "outputId": "8021129b-cf57-43c1-deb4-bf52ae7ca1f6"
      },
      "execution_count": 4,
      "outputs": [
        {
          "output_type": "stream",
          "name": "stdout",
          "text": [
            "[2000, 2002, 2004, 2006, 2008, 2020, 2022, 2024, 2026, 2028, 2040, 2042, 2044, 2046, 2048, 2060, 2062, 2064, 2066, 2068, 2080, 2082, 2084, 2086, 2088, 2200, 2202, 2204, 2206, 2208, 2220, 2222, 2224, 2226, 2228, 2240, 2242, 2244, 2246, 2248, 2260, 2262, 2264, 2266, 2268, 2280, 2282, 2284, 2286, 2288, 2400, 2402, 2404, 2406, 2408, 2420, 2422, 2424, 2426, 2428, 2440, 2442, 2444, 2446, 2448, 2460, 2462, 2464, 2466, 2468, 2480, 2482, 2484, 2486, 2488, 2600, 2602, 2604, 2606, 2608, 2620, 2622, 2624, 2626, 2628, 2640, 2642, 2644, 2646, 2648, 2660, 2662, 2664, 2666, 2668, 2680, 2682, 2684, 2686, 2688, 2800, 2802, 2804, 2806, 2808, 2820, 2822, 2824, 2826, 2828, 2840, 2842, 2844, 2846, 2848, 2860, 2862, 2864, 2866, 2868, 2880, 2882, 2884, 2886, 2888]\n"
          ]
        }
      ]
    },
    {
      "cell_type": "markdown",
      "source": [
        "**Exercise 7 :**\n",
        "\n",
        "Write a python function that accepts a sentence and calculate and return the number of letters and digits.\n",
        "\n",
        "Suppose the following input is supplied to the program:\n",
        "\n",
        "hello world! 123\n",
        "\n",
        "Then, the output should be:\n",
        "\n",
        "LETTERS 10\n",
        "\n",
        "DIGITS 3"
      ],
      "metadata": {
        "id": "O3FR306EWYXs"
      }
    },
    {
      "cell_type": "code",
      "source": [
        "def number_of_letters_and_digits(sentence):\n",
        "  letters=0\n",
        "  digits=0\n",
        "  for char in sentence:\n",
        "    if char.isalpha():\n",
        "      letters=letters+1\n",
        "    elif char.isdigit():\n",
        "      digits=digits+1\n",
        "  return letters,digits\n",
        "sentence=input(\"enter the input:\")\n",
        "letters,digits=number_of_letters_and_digits(sentence)\n",
        "print(\"letters\",letters)\n",
        "print(\"digits\",digits)"
      ],
      "metadata": {
        "colab": {
          "base_uri": "https://localhost:8080/"
        },
        "id": "9BhG5LJPWR1O",
        "outputId": "3120027c-019a-432b-9b85-6d5d5ebcd29e"
      },
      "execution_count": 5,
      "outputs": [
        {
          "output_type": "stream",
          "name": "stdout",
          "text": [
            "enter the input:hello world! 123\n",
            "letters 10\n",
            "digits 3\n"
          ]
        }
      ]
    },
    {
      "cell_type": "markdown",
      "source": [
        "**Exercise 8 MAP:**\n",
        "\n",
        "Write a Python program to convert all the characters into uppercase and\n",
        "lowercase and eliminate duplicate letters from a given sequence. Use the\n",
        "map() function"
      ],
      "metadata": {
        "id": "AmPfO22nXWm2"
      }
    },
    {
      "cell_type": "code",
      "source": [
        "sentence=input(\"enter the sentence:\")\n",
        "uppercase=list(map(lambda char:char.upper(),sentence))\n",
        "lowercase=list(map(lambda char:char.lower(),sentence))\n",
        "unique=set(sentence)\n",
        "print(\"uppercase\",uppercase)\n",
        "print(\"lowercase\",lowercase)\n",
        "print(\"unique\",unique)"
      ],
      "metadata": {
        "colab": {
          "base_uri": "https://localhost:8080/"
        },
        "id": "c_qM_DN5XQeI",
        "outputId": "86694de1-060e-4ea2-826f-dbcc61e99e16"
      },
      "execution_count": 6,
      "outputs": [
        {
          "output_type": "stream",
          "name": "stdout",
          "text": [
            "enter the sentence:Hello Anjana Benny\n",
            "uppercase ['H', 'E', 'L', 'L', 'O', ' ', 'A', 'N', 'J', 'A', 'N', 'A', ' ', 'B', 'E', 'N', 'N', 'Y']\n",
            "lowercase ['h', 'e', 'l', 'l', 'o', ' ', 'a', 'n', 'j', 'a', 'n', 'a', ' ', 'b', 'e', 'n', 'n', 'y']\n",
            "unique {'A', 'j', 'l', 'H', 'n', 'e', 'y', 'B', ' ', 'o', 'a'}\n"
          ]
        }
      ]
    },
    {
      "cell_type": "markdown",
      "source": [
        "**Exercise 9 MAP:**\n",
        "\n",
        "Write a Python program to add two given lists and find the difference between\n",
        "them. Use the map() function"
      ],
      "metadata": {
        "id": "7CfpohUzYCHr"
      }
    },
    {
      "cell_type": "code",
      "source": [
        "l1=[1,3,5,7,9]\n",
        "l2=[1,2,3,4,5]\n",
        "sum_list=list(map(lambda a,b:a+b,l1,l2))\n",
        "difference_list=list(map(lambda a,b:a-b,l1,l2))\n",
        "print(\"sum of list=\",sum_list)\n",
        "print(\"difference of lists=\",difference_list)"
      ],
      "metadata": {
        "colab": {
          "base_uri": "https://localhost:8080/"
        },
        "id": "QShZtEQrX6T2",
        "outputId": "37c97278-4c4c-4e10-e0f8-2d1c49a56ea2"
      },
      "execution_count": 7,
      "outputs": [
        {
          "output_type": "stream",
          "name": "stdout",
          "text": [
            "sum of list= [2, 5, 8, 11, 14]\n",
            "difference of lists= [0, 1, 2, 3, 4]\n"
          ]
        }
      ]
    },
    {
      "cell_type": "markdown",
      "source": [
        "**Exercise 10 Filter:**\n",
        "\n",
        "Write a Python program to filter the height and weight of students, which are\n",
        "stored in a dictionary using lambda.\n",
        "\n",
        "Original Dictionary:\n",
        "\n",
        "{'Cierra Vega': (6.2, 71), 'Alden Cantrell': (5.9, 65), 'Kierra Gentry': (6.0, 68),'Pierre Cox': (5.8, 66)}\n",
        "\n",
        "Height> 6ft and Weight> 70kg:\n",
        "\n",
        "{'Cierra Vega': (6.2, 71)}"
      ],
      "metadata": {
        "id": "-1dj_-maYjmD"
      }
    },
    {
      "cell_type": "code",
      "source": [
        "students={'Cierra Vega': (6.2, 71), 'Alden Cantrell': (5.9, 65), 'Kierra Gentry': (6.0, 68),'Pierre Cox': (5.8, 66)}\n",
        "filtered=dict(filter(lambda item:item[1][0]>6 and item[1][1]>70,students.items()))\n",
        "print(\"Height>6ft and weight > 70kg:\")\n",
        "print(filtered)"
      ],
      "metadata": {
        "colab": {
          "base_uri": "https://localhost:8080/"
        },
        "id": "YGwdvetTYfj0",
        "outputId": "7519c4c8-45de-4a47-8f3c-4b5ea08b00f1"
      },
      "execution_count": 10,
      "outputs": [
        {
          "output_type": "stream",
          "name": "stdout",
          "text": [
            "Height>6ft and weight > 70kg:\n",
            "{'Cierra Vega': (6.2, 71)}\n"
          ]
        }
      ]
    },
    {
      "cell_type": "markdown",
      "source": [
        "**Exercise 11 Filter:**\n",
        "\n",
        "Write a Python program to remove all elements from a given list present in\n",
        "another list using lambda.\n",
        "\n",
        "Original lists:\n",
        "list1: [1, 2, 3, 4, 5, 6, 7, 8, 9, 10]\n",
        "\n",
        "list2: [2, 4, 6, 8]\n",
        "\n",
        "Remove all elements from 'list1' present in 'list2:\n",
        "\n",
        "[1, 3, 5, 7, 9, 10]"
      ],
      "metadata": {
        "id": "UE0hRI7aZYoC"
      }
    },
    {
      "cell_type": "code",
      "source": [
        "l1=[1,2,3,4,5,6,7,8,9,10]\n",
        "l2=[2,4,6,8]\n",
        "res=list(filter(lambda x:x not in l2,l1))\n",
        "print(\"remove all elements from 'l1' present in 'l2':\")\n",
        "print(res)"
      ],
      "metadata": {
        "colab": {
          "base_uri": "https://localhost:8080/"
        },
        "id": "K4K3NeHfZPg6",
        "outputId": "fd3578cc-4c9f-41f5-8c52-993fcc162f79"
      },
      "execution_count": 12,
      "outputs": [
        {
          "output_type": "stream",
          "name": "stdout",
          "text": [
            "remove all elements from 'l1' present in 'l2':\n",
            "[1, 3, 5, 7, 9, 10]\n"
          ]
        }
      ]
    },
    {
      "cell_type": "markdown",
      "source": [
        "**Exercise 12 Reduce:**\n",
        "\n",
        "Write a Python program to calculate the product of a given list of numbers\n",
        "using lambda.\n",
        "\n",
        "list1: [1, 2, 3, 4, 5, 6, 7, 8, 9, 10]\n",
        "\n",
        "Product of the said list numbers:\n",
        "\n",
        "3628800"
      ],
      "metadata": {
        "id": "R2lhw_OoaGKU"
      }
    },
    {
      "cell_type": "code",
      "source": [
        "import functools\n",
        "l1=[1,2,3,4,5,6,7,8,9,10]\n",
        "print(\"product of the said list numbers:\")\n",
        "print(functools.reduce(lambda a,b:a*b,l1))"
      ],
      "metadata": {
        "colab": {
          "base_uri": "https://localhost:8080/"
        },
        "id": "gGZRmsuoZ8AR",
        "outputId": "c83c8773-d901-48fb-d85b-4dd9594a79c0"
      },
      "execution_count": 13,
      "outputs": [
        {
          "output_type": "stream",
          "name": "stdout",
          "text": [
            "product of the said list numbers:\n",
            "3628800\n"
          ]
        }
      ]
    },
    {
      "cell_type": "markdown",
      "source": [
        "**Exercise 13 Reduce:**\n",
        "\n",
        "Write a Python program to multiply all the numbers in a given list using\n",
        "lambda.\n",
        "\n",
        "Original list:\n",
        "\n",
        "[4, 3, 2, 2, -1, 18]\n",
        "\n",
        "Multiply all the numbers of the said list: -864"
      ],
      "metadata": {
        "id": "y7Jce-Scax8S"
      }
    },
    {
      "cell_type": "code",
      "source": [
        "import functools\n",
        "l1=[4,3,2,2,-1,18]\n",
        "print(\"product of the said list nums:\",end=\"\")\n",
        "print(functools.reduce(lambda a,b:a*b,l1))"
      ],
      "metadata": {
        "colab": {
          "base_uri": "https://localhost:8080/"
        },
        "id": "vUNBJVwyawZe",
        "outputId": "b663033c-33f3-4be6-dd34-7556f37d4f7f"
      },
      "execution_count": 14,
      "outputs": [
        {
          "output_type": "stream",
          "name": "stdout",
          "text": [
            "product of the said list nums:-864\n"
          ]
        }
      ]
    },
    {
      "cell_type": "markdown",
      "source": [
        "**Exercise 14 Reduce:**\n",
        "\n",
        "Write a Python program to calculate the average value of the numbers in a\n",
        "given tuple of tuples using lambda.\n",
        "\n",
        "Original Tuple:\n",
        "\n",
        "((10, 10, 10), (30, 45, 56), (81, 80, 39), (1, 2, 3))\n",
        "\n",
        "Average value of the numbers of the said tuple of tuples:\n",
        "\n",
        "(30.5, 34.25, 27.0)"
      ],
      "metadata": {
        "id": "fI_AU7W5bcBb"
      }
    },
    {
      "cell_type": "code",
      "source": [
        "from functools import reduce\n",
        "original_tuple=((10,10,10),(30, 45, 56), (81, 80, 39), (1, 2, 3))\n",
        "avg_val=tuple(reduce(lambda x,y:map(sum,zip(x,y)),original_tuple))\n",
        "print(f\"average value:\\n{tuple(map(lambda x:x/len(original_tuple),avg_val))}\")"
      ],
      "metadata": {
        "colab": {
          "base_uri": "https://localhost:8080/"
        },
        "id": "EiATfirAbXfK",
        "outputId": "d056696a-48c1-42c0-d6a6-1df33685dc28"
      },
      "execution_count": 15,
      "outputs": [
        {
          "output_type": "stream",
          "name": "stdout",
          "text": [
            "average value:\n",
            "(30.5, 34.25, 27.0)\n"
          ]
        }
      ]
    },
    {
      "cell_type": "markdown",
      "source": [
        "**Exercise 15:**\n",
        "\n",
        "Write a Python program to sort a given mixed list of integers and strings using\n",
        "lambda. Numbers must be sorted before strings.\n",
        "\n",
        "Original list:\n",
        "\n",
        "[19, 'red', 12, 'green', 'blue', 10, 'white', 'green', 1]\n",
        "\n",
        "Sort the said mixed list of integers and strings:\n",
        "\n",
        "[1, 10, 12, 19, 'blue', 'green', 'green', 'red', 'white']"
      ],
      "metadata": {
        "id": "Dt2euBASc5By"
      }
    },
    {
      "cell_type": "code",
      "source": [
        "l=[19,'red',12,'green','blue',10,'white','green',1]\n",
        "l.sort(key=lambda x:str(x))\n",
        "print(l)"
      ],
      "metadata": {
        "colab": {
          "base_uri": "https://localhost:8080/"
        },
        "id": "-QmF5U3Mc0Pk",
        "outputId": "21419e9b-a3ab-4298-e489-003a64692f4b"
      },
      "execution_count": 16,
      "outputs": [
        {
          "output_type": "stream",
          "name": "stdout",
          "text": [
            "[1, 10, 12, 19, 'blue', 'green', 'green', 'red', 'white']\n"
          ]
        }
      ]
    },
    {
      "cell_type": "markdown",
      "source": [
        "**Exercise 16:**\n",
        "\n",
        "Write a Python program to count the occurrences of items in a given list using\n",
        "lambda.\n",
        "\n",
        "Original list:\n",
        "\n",
        "[3, 4, 5, 8, 0, 3, 8, 5, 0, 3, 1, 5, 2, 3, 4, 2]\n",
        "\n",
        "Count the occurrences of the items in the said list:\n",
        "\n",
        "{3: 4, 4: 2, 5: 3, 8: 2, 0: 2, 1: 1, 2: 2}"
      ],
      "metadata": {
        "id": "fWVU1J67dfiy"
      }
    },
    {
      "cell_type": "code",
      "source": [
        "l=[3,4,5, 8, 0, 3, 8, 5, 0, 3, 1, 5, 2, 3, 4, 2]\n",
        "count={}\n",
        "for i in l:\n",
        "  if i in count:\n",
        "    count[i]=count[i]+1\n",
        "  else:\n",
        "    count[i]=1\n",
        "print(count)"
      ],
      "metadata": {
        "colab": {
          "base_uri": "https://localhost:8080/"
        },
        "id": "Mi0ImwPbda4t",
        "outputId": "ab17465c-fb39-40f3-efc6-866ff11b485f"
      },
      "execution_count": 17,
      "outputs": [
        {
          "output_type": "stream",
          "name": "stdout",
          "text": [
            "{3: 4, 4: 2, 5: 3, 8: 2, 0: 2, 1: 1, 2: 2}\n"
          ]
        }
      ]
    },
    {
      "cell_type": "markdown",
      "source": [
        "**Exercise 17:**\n",
        "\n",
        "Write a Python program to remove None values from a given list using the\n",
        "lambda function.\n",
        "\n",
        "Original list:\n",
        "\n",
        "[12, 0, None, 23, None, -55, 234, 89, None, 0, 6, -12]\n",
        "\n",
        "Remove None value from the said list:\n",
        "\n",
        "[12, 0, 23, -55, 234, 89, 0, 6, -12]"
      ],
      "metadata": {
        "id": "BAdF8MJad2dW"
      }
    },
    {
      "cell_type": "code",
      "source": [
        "l1=[12, 0, None, 23, None, -55, 234, 89, None, 0, 6, -12]\n",
        "out_list=list(filter(lambda x:x is not None,l1))\n",
        "print(out_list)"
      ],
      "metadata": {
        "colab": {
          "base_uri": "https://localhost:8080/"
        },
        "id": "aQSubQlYdzwg",
        "outputId": "96c7184c-e261-42f3-c07e-9ca71554d606"
      },
      "execution_count": 18,
      "outputs": [
        {
          "output_type": "stream",
          "name": "stdout",
          "text": [
            "[12, 0, 23, -55, 234, 89, 0, 6, -12]\n"
          ]
        }
      ]
    },
    {
      "cell_type": "code",
      "source": [],
      "metadata": {
        "id": "h4pwUllleI6y"
      },
      "execution_count": null,
      "outputs": []
    }
  ]
}