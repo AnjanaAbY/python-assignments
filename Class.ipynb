{
  "nbformat": 4,
  "nbformat_minor": 0,
  "metadata": {
    "colab": {
      "provenance": [],
      "authorship_tag": "ABX9TyNioQf2oB+f4AXwLxpnBm4F",
      "include_colab_link": true
    },
    "kernelspec": {
      "name": "python3",
      "display_name": "Python 3"
    },
    "language_info": {
      "name": "python"
    }
  },
  "cells": [
    {
      "cell_type": "markdown",
      "metadata": {
        "id": "view-in-github",
        "colab_type": "text"
      },
      "source": [
        "<a href=\"https://colab.research.google.com/github/AnjanaAbY/python-assignments/blob/main/Class.ipynb\" target=\"_parent\"><img src=\"https://colab.research.google.com/assets/colab-badge.svg\" alt=\"Open In Colab\"/></a>"
      ]
    },
    {
      "cell_type": "markdown",
      "source": [
        "1. Write a Python program to create a class representing a Circle. Include methods to calculate its area and perimeter."
      ],
      "metadata": {
        "id": "12AWoyWJWQaf"
      }
    },
    {
      "cell_type": "code",
      "execution_count": 2,
      "metadata": {
        "colab": {
          "base_uri": "https://localhost:8080/"
        },
        "id": "eeXxJL2CWO77",
        "outputId": "ba74eef3-99ba-4697-f6f0-3e65a452c69e"
      },
      "outputs": [
        {
          "output_type": "stream",
          "name": "stdout",
          "text": [
            "78.53981633974483\n",
            "31.41592653589793\n"
          ]
        }
      ],
      "source": [
        "import math\n",
        "class Circle():\n",
        "  def __init__(self,r):\n",
        "    self.radius=r\n",
        "  def area(self):\n",
        "    return math.pi*self.radius**2\n",
        "  def perimeter(self):\n",
        "    return 2*math.pi*self.radius\n",
        "p1=Circle(5)\n",
        "print(p1.area())\n",
        "print(p1.perimeter())"
      ]
    },
    {
      "cell_type": "markdown",
      "source": [
        "2. Write a Python program to create a calculator class. Include methods for basic arithmetic operations."
      ],
      "metadata": {
        "id": "ZeUhMJTcXYHy"
      }
    },
    {
      "cell_type": "code",
      "source": [
        "class Calculator():\n",
        "  def __init__(self,a,b):\n",
        "    self.a=a\n",
        "    self.b=b\n",
        "  def addition(self):\n",
        "    return self.a+self.b\n",
        "  def subtraction(self):\n",
        "    return self.a-self.b\n",
        "  def multiplication(self):\n",
        "    return self.a*self.b\n",
        "  def division(self):\n",
        "    return self.a/self.b\n",
        "p1=Calculator(100,50)\n",
        "print(\"addition of given numbers:\",p1.addition())\n",
        "print(\"subtraction of given numbers:\",p1.subtraction())\n",
        "print(\"multiplication of given numbers:\",p1.multiplication())\n",
        "print(\"division of given numbers:\",p1.division())"
      ],
      "metadata": {
        "colab": {
          "base_uri": "https://localhost:8080/"
        },
        "id": "dh-pFtyqXM-z",
        "outputId": "d0542f0f-13eb-4dcf-b840-aa42748d8492"
      },
      "execution_count": 4,
      "outputs": [
        {
          "output_type": "stream",
          "name": "stdout",
          "text": [
            "addition of given numbers: 150\n",
            "subtraction of given numbers: 50\n",
            "multiplication of given numbers: 5000\n",
            "division of given numbers: 2.0\n"
          ]
        }
      ]
    },
    {
      "cell_type": "markdown",
      "source": [
        "3. Write a Python program to create a class that represents a shape. Include methods to calculate its area and perimeter. Implement subclasses for different shapes like circle, triangle, and square."
      ],
      "metadata": {
        "id": "jIR8hfQjYVqP"
      }
    },
    {
      "cell_type": "code",
      "source": [
        "import math\n",
        "class Shape():\n",
        "  def area(self):\n",
        "    pass\n",
        "  def perimeter(self):\n",
        "    pass\n",
        "\n",
        "class Circle(Shape):\n",
        "  def __init__(self,r):\n",
        "    self.radius=r\n",
        "  def area(self):\n",
        "    return math.pi*self.radius**2\n",
        "  def perimeter(self):\n",
        "    return 2*math.pi*self.radius\n",
        "class Triangle(Shape):\n",
        "  def __init__(self,b,h,s1,s2,s3):\n",
        "    self.base=b\n",
        "    self.height=h\n",
        "    self.side1=s1\n",
        "    self.side2=s2\n",
        "    self.side3=s3\n",
        "  def area(self):\n",
        "    return 0.5*self.base*self.height\n",
        "  def perimeter(self):\n",
        "    return self.side1+self.side2+self.side3\n",
        "class Square(Shape):\n",
        "  def __init__(self,s):\n",
        "    self.side=s\n",
        "  def area(self):\n",
        "    return self.side*self.side\n",
        "  def perimeter(self):\n",
        "    return 4*self.side\n",
        "\n",
        "p1=Circle(5)\n",
        "p2=Triangle(3,4,5,6,7)\n",
        "p3=Square(10)\n",
        "\n",
        "print(\"area of circle=\",p1.area(),\"perimeter of circle=\",p1.perimeter())\n",
        "print(\"area of triangle=\",p2.area(),\"perimeter of triangle=\",p2.perimeter())\n",
        "print(\"area of square=\",p3.area(),\"perimeter of square=\",p3.perimeter())"
      ],
      "metadata": {
        "colab": {
          "base_uri": "https://localhost:8080/"
        },
        "id": "hJR1SqwZYYbr",
        "outputId": "f00912c2-c791-4d66-8572-7646edf018b7"
      },
      "execution_count": 5,
      "outputs": [
        {
          "output_type": "stream",
          "name": "stdout",
          "text": [
            "area of circle= 78.53981633974483 perimeter of circle= 31.41592653589793\n",
            "area of triangle= 6.0 perimeter of triangle= 18\n",
            "area of square= 100 perimeter of square= 40\n"
          ]
        }
      ]
    },
    {
      "cell_type": "markdown",
      "source": [],
      "metadata": {
        "id": "l_XEcZnJXW-I"
      }
    }
  ]
}