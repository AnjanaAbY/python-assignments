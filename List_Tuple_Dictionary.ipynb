{
  "nbformat": 4,
  "nbformat_minor": 0,
  "metadata": {
    "colab": {
      "provenance": [],
      "authorship_tag": "ABX9TyOr225IiErvjvXETYwh+I0x",
      "include_colab_link": true
    },
    "kernelspec": {
      "name": "python3",
      "display_name": "Python 3"
    },
    "language_info": {
      "name": "python"
    }
  },
  "cells": [
    {
      "cell_type": "markdown",
      "metadata": {
        "id": "view-in-github",
        "colab_type": "text"
      },
      "source": [
        "<a href=\"https://colab.research.google.com/github/AnjanaAbY/python-assignments/blob/main/List_Tuple_Dictionary.ipynb\" target=\"_parent\"><img src=\"https://colab.research.google.com/assets/colab-badge.svg\" alt=\"Open In Colab\"/></a>"
      ]
    },
    {
      "cell_type": "markdown",
      "source": [
        "##**LIST,TUPLE and DICTIONARY**"
      ],
      "metadata": {
        "id": "m5cHc-g93Hnz"
      }
    },
    {
      "cell_type": "markdown",
      "source": [
        "1. Write a Python program to sum all the items in a list."
      ],
      "metadata": {
        "id": "Hsc4UIHm3PcL"
      }
    },
    {
      "cell_type": "code",
      "execution_count": 1,
      "metadata": {
        "colab": {
          "base_uri": "https://localhost:8080/"
        },
        "id": "07Ql6jyD3AoR",
        "outputId": "c4f8e5a6-8810-4cfc-800d-e1eea3acfc7c"
      },
      "outputs": [
        {
          "output_type": "stream",
          "name": "stdout",
          "text": [
            "221\n"
          ]
        }
      ],
      "source": [
        "li=[56,89,0,37,5,34]\n",
        "print(sum(li))"
      ]
    },
    {
      "cell_type": "markdown",
      "source": [
        "2. Write a Python program to get the largest number from a list."
      ],
      "metadata": {
        "id": "nMDxJU1e4BJS"
      }
    },
    {
      "cell_type": "code",
      "source": [
        "li=[56,89,0,37,5,34]\n",
        "li.sort()\n",
        "print(li[-1])"
      ],
      "metadata": {
        "colab": {
          "base_uri": "https://localhost:8080/"
        },
        "id": "mLSgjLWj3bMQ",
        "outputId": "e0b70b48-9dcd-4388-d970-fb0b11bd98c3"
      },
      "execution_count": 2,
      "outputs": [
        {
          "output_type": "stream",
          "name": "stdout",
          "text": [
            "89\n"
          ]
        }
      ]
    },
    {
      "cell_type": "markdown",
      "source": [
        "3. Write a Python program to count the number of strings from a given list of strings. The string length is 2 or more and the first and last characters are the same.\n",
        "\n",
        "Sample List : ['abc', 'xyz', 'aba', '1221']\n",
        "\n",
        "Expected Result : 2"
      ],
      "metadata": {
        "id": "6YnFIgdx4Cdk"
      }
    },
    {
      "cell_type": "code",
      "source": [
        "sample_list=['abc','xyz','aba','1221']\n",
        "count=0\n",
        "for i in sample_list:\n",
        "  if len(i)>=2 and i[0]==i[-1]:\n",
        "    count=count+1\n",
        "print(count)"
      ],
      "metadata": {
        "colab": {
          "base_uri": "https://localhost:8080/"
        },
        "id": "yH7ArDoJ3-P6",
        "outputId": "7927d627-002b-47f4-d851-9dc24474a9af"
      },
      "execution_count": 3,
      "outputs": [
        {
          "output_type": "stream",
          "name": "stdout",
          "text": [
            "2\n"
          ]
        }
      ]
    },
    {
      "cell_type": "markdown",
      "source": [
        "4. Write a Python program to remove duplicates from a list."
      ],
      "metadata": {
        "id": "YKlJiUKW4iCX"
      }
    },
    {
      "cell_type": "code",
      "source": [
        "l1=['abc','123','xyz','abc','678','123']\n",
        "l2=[]\n",
        "for i in l1:\n",
        "  if i not in l2:\n",
        "    l2.append(i)\n",
        "print(l2)"
      ],
      "metadata": {
        "colab": {
          "base_uri": "https://localhost:8080/"
        },
        "id": "JQHgFuOF4b6M",
        "outputId": "48c3e573-016c-4de2-a790-21a45494fc39"
      },
      "execution_count": 4,
      "outputs": [
        {
          "output_type": "stream",
          "name": "stdout",
          "text": [
            "['abc', '123', 'xyz', '678']\n"
          ]
        }
      ]
    },
    {
      "cell_type": "markdown",
      "source": [
        "5. Write a Python program to check if a list is empty or not."
      ],
      "metadata": {
        "id": "pDzy6qla43pS"
      }
    },
    {
      "cell_type": "code",
      "source": [
        "li=[1,\"hi\",True,\"hello\",2,3]\n",
        "if len(li)==0:\n",
        "  print(\"list is empty\")\n",
        "else:\n",
        "  print(\"list is not empty\")"
      ],
      "metadata": {
        "colab": {
          "base_uri": "https://localhost:8080/"
        },
        "id": "OYs_CND_4y4k",
        "outputId": "c0a26599-272e-46d3-8c2a-afd9f334fdcc"
      },
      "execution_count": 8,
      "outputs": [
        {
          "output_type": "stream",
          "name": "stdout",
          "text": [
            "list is not empty\n"
          ]
        }
      ]
    },
    {
      "cell_type": "markdown",
      "source": [
        "6. Write a Python program to filter the list if the length of the character is < 4\n",
        "\n",
        "Sample List : ['abc', 'xyz', 'aba', '1221']\n",
        "\n",
        "Expected Result: ['abc', 'xyz', 'aba']"
      ],
      "metadata": {
        "id": "2vY8k4Lh5rzZ"
      }
    },
    {
      "cell_type": "code",
      "source": [
        "l1=[\"abc\",\"xyz\",\"aba\",'1221']\n",
        "new_list=[]\n",
        "for i in l1:\n",
        "  if len(i)<4:\n",
        "    new_list.append(i)\n",
        "print(new_list)"
      ],
      "metadata": {
        "colab": {
          "base_uri": "https://localhost:8080/"
        },
        "id": "YcLEpp4r5LXD",
        "outputId": "ce934992-1237-4bc3-b129-65b5189680ae"
      },
      "execution_count": 10,
      "outputs": [
        {
          "output_type": "stream",
          "name": "stdout",
          "text": [
            "['abc', 'xyz', 'aba']\n"
          ]
        }
      ]
    },
    {
      "cell_type": "markdown",
      "source": [
        "7.Write a Python program to find the second largest number in a list."
      ],
      "metadata": {
        "id": "iPnHxUeq6Pju"
      }
    },
    {
      "cell_type": "code",
      "source": [
        "li=[56,89,0,37,5,34]\n",
        "li.sort()\n",
        "print(li[-2])"
      ],
      "metadata": {
        "colab": {
          "base_uri": "https://localhost:8080/"
        },
        "id": "1aqxy6VX6D_5",
        "outputId": "48480b65-8b8d-4612-c64c-fe37f4507ddd"
      },
      "execution_count": 11,
      "outputs": [
        {
          "output_type": "stream",
          "name": "stdout",
          "text": [
            "56\n"
          ]
        }
      ]
    },
    {
      "cell_type": "markdown",
      "source": [
        "8. Write a Python program to reverse a list at a specific location."
      ],
      "metadata": {
        "id": "LNdy8LiF6jsF"
      }
    },
    {
      "cell_type": "code",
      "source": [
        "li=[1,\"hi\",True,\"hello\",2,3]\n",
        "p=int(input(\"enter the position:\"))\n",
        "if 0<=p<len(li):\n",
        "  rev=li[:p]+li[:p-1:-1]\n",
        "  print(rev)"
      ],
      "metadata": {
        "colab": {
          "base_uri": "https://localhost:8080/"
        },
        "id": "A9H85aiR6hGV",
        "outputId": "00502122-862b-4789-aa25-72fec4cf9cf6"
      },
      "execution_count": 12,
      "outputs": [
        {
          "output_type": "stream",
          "name": "stdout",
          "text": [
            "enter the position:2\n",
            "[1, 'hi', 3, 2, 'hello', True]\n"
          ]
        }
      ]
    },
    {
      "cell_type": "markdown",
      "source": [
        "9. Write a Python program to check if a list is a palindrome or not. Return true otherwise false."
      ],
      "metadata": {
        "id": "nOvWHLbY6_KS"
      }
    },
    {
      "cell_type": "code",
      "source": [
        "li=[\"m\",\"a\",\"l\",\"a\",\"y\",\"a\",\"l\",\"a\",\"m\"]\n",
        "rev=li[::-1]\n",
        "if li==rev:\n",
        "  print(\"true\")\n",
        "else:\n",
        "  print(\"false\")"
      ],
      "metadata": {
        "colab": {
          "base_uri": "https://localhost:8080/"
        },
        "id": "RHAc7sZg659e",
        "outputId": "f8da36c6-4118-4af1-8dc1-5398ea34d598"
      },
      "execution_count": 13,
      "outputs": [
        {
          "output_type": "stream",
          "name": "stdout",
          "text": [
            "true\n"
          ]
        }
      ]
    },
    {
      "cell_type": "markdown",
      "source": [
        "10. Write a Python a program to find the union and intersection of two lists."
      ],
      "metadata": {
        "id": "o1B5iMTG7Zqu"
      }
    },
    {
      "cell_type": "code",
      "source": [
        "l1 = [1, 2, 3, 4, 5]\n",
        "l2 = [3, 4, 5, 6, 7]\n",
        "set1 = set(l1)\n",
        "set2 = set(l2)\n",
        "union_result = list(set1.union(set2))\n",
        "intersection_result = list(set1.intersection(set2))\n",
        "print(f\"Union: {union_result}\")\n",
        "print(f\"Intersection: {intersection_result}\")"
      ],
      "metadata": {
        "colab": {
          "base_uri": "https://localhost:8080/"
        },
        "id": "l3JbGgHY7WQ9",
        "outputId": "909489d9-3c9a-4484-84bc-b19f62d1d5f1"
      },
      "execution_count": 15,
      "outputs": [
        {
          "output_type": "stream",
          "name": "stdout",
          "text": [
            "Union: [1, 2, 3, 4, 5, 6, 7]\n",
            "Intersection: [3, 4, 5]\n"
          ]
        }
      ]
    },
    {
      "cell_type": "markdown",
      "source": [
        "11.Write a Python script to sort (ascending and descending) a dictionary by value"
      ],
      "metadata": {
        "id": "Zyi_E83W72bY"
      }
    },
    {
      "cell_type": "code",
      "source": [
        "d1={\"hi\":67,\"hello\":34,\"hola\":45,\"bonjour\":98}\n",
        "d2={}\n",
        "sorted_val=sorted(d1.values())\n",
        "for i in sorted_val:\n",
        "  for k,v in d1.items():\n",
        "    if v==i:\n",
        "      d2[k]=v\n",
        "print(\"Ascending order:\",d2)\n",
        "d3=dict(reversed(list(d2.items())))\n",
        "print(\"Descending order:\",d3)"
      ],
      "metadata": {
        "colab": {
          "base_uri": "https://localhost:8080/"
        },
        "id": "IYlK1HBH7vIT",
        "outputId": "7eb3ca47-2a7b-464e-e0bb-eefa0340172e"
      },
      "execution_count": 16,
      "outputs": [
        {
          "output_type": "stream",
          "name": "stdout",
          "text": [
            "Ascending order: {'hello': 34, 'hola': 45, 'hi': 67, 'bonjour': 98}\n",
            "Descending order: {'bonjour': 98, 'hi': 67, 'hola': 45, 'hello': 34}\n"
          ]
        }
      ]
    },
    {
      "cell_type": "markdown",
      "source": [
        "12. Write a Python script to check whether a given key already exists in a dictionary."
      ],
      "metadata": {
        "id": "XVpvI2ox8kzY"
      }
    },
    {
      "cell_type": "code",
      "source": [
        "d1={\"abc\":1,\"def\":2,\"ghi\":3}\n",
        "k1=input(\"enter the key you want to check:\")\n",
        "if k1 in d1.keys():\n",
        "  print(k1,\"is already present in the dictionary\")\n",
        "else:\n",
        "  print(k1,\"is not present in the dictionary\")"
      ],
      "metadata": {
        "colab": {
          "base_uri": "https://localhost:8080/"
        },
        "id": "zlgq9B1X8ej2",
        "outputId": "6876e541-a0c0-4f19-e28a-6dc3f1cc6c25"
      },
      "execution_count": 18,
      "outputs": [
        {
          "output_type": "stream",
          "name": "stdout",
          "text": [
            "enter the key you want to check:ghi\n",
            "ghi is already present in the dictionary\n"
          ]
        }
      ]
    },
    {
      "cell_type": "markdown",
      "source": [
        "13.Write a Python program to sum all the values in a dictionary."
      ],
      "metadata": {
        "id": "L5Qdbg8E9UUa"
      }
    },
    {
      "cell_type": "code",
      "source": [
        "d={'a':250,'b':28,'c':75,'d':64}\n",
        "s=0\n",
        "for i in d.values():\n",
        "  s=s+i\n",
        "print(\"sum of values=\",s)"
      ],
      "metadata": {
        "colab": {
          "base_uri": "https://localhost:8080/"
        },
        "id": "R3S12Mre9MLC",
        "outputId": "0a1831a3-155f-42e3-ab60-9eabee1abc7a"
      },
      "execution_count": 19,
      "outputs": [
        {
          "output_type": "stream",
          "name": "stdout",
          "text": [
            "sum of values= 417\n"
          ]
        }
      ]
    },
    {
      "cell_type": "markdown",
      "source": [
        "14.Write a Python program to create a dictionary with a number and its corresponding square from 1 to input number. And also check if the input number is less than 10\n",
        "\n",
        "Eg:\n",
        "\n",
        "Input : 3\n",
        "\n",
        "Output : {1:1, 2:4, 3:9}"
      ],
      "metadata": {
        "id": "knsl8iGT9m68"
      }
    },
    {
      "cell_type": "code",
      "source": [
        "num=3\n",
        "if num<10:\n",
        "  d={}\n",
        "  for i in range(1,num+1):\n",
        "    d[i]=i**2\n",
        "else:\n",
        "    print(\"num must be less than 10\")\n",
        "print(d)"
      ],
      "metadata": {
        "colab": {
          "base_uri": "https://localhost:8080/"
        },
        "id": "Wjeuwipl9j5O",
        "outputId": "10eee318-f701-45fd-cb2d-2fd43e9a7d73"
      },
      "execution_count": 30,
      "outputs": [
        {
          "output_type": "stream",
          "name": "stdout",
          "text": [
            "{1: 1, 2: 4, 3: 9}\n"
          ]
        }
      ]
    },
    {
      "cell_type": "markdown",
      "source": [
        "15.Write a Python program to sort a given dictionary by key."
      ],
      "metadata": {
        "id": "IBfR-2go-66V"
      }
    },
    {
      "cell_type": "code",
      "source": [
        "d={65:'pizza',45:'burger',70:'fries',25:'wrap'}\n",
        "k1=list(d.keys())\n",
        "k1.sort()\n",
        "sorted_list={i:d[i] for i in k1}\n",
        "print(sorted_list)"
      ],
      "metadata": {
        "colab": {
          "base_uri": "https://localhost:8080/"
        },
        "id": "eZNUlSD7-FLs",
        "outputId": "9b4d96c6-36e9-4dc9-d003-ed12396d281d"
      },
      "execution_count": 25,
      "outputs": [
        {
          "output_type": "stream",
          "name": "stdout",
          "text": [
            "{25: 'wrap', 45: 'burger', 65: 'pizza', 70: 'fries'}\n"
          ]
        }
      ]
    },
    {
      "cell_type": "markdown",
      "source": [
        "16. Write a Python program to create a dictionary from a string.\n",
        "\n",
        "Note: Track the count of the letters from the string.\n",
        "\n",
        "Sample string : 'learnpython'\n",
        "\n",
        "Expected output: {'l': 1, 'e': 1, 'a': 1, 'r': 1, 'n': 2, 'p': 1, 'y': 1, 't': 1, 'h': 1, 'o': 1}"
      ],
      "metadata": {
        "id": "RsQvj3RI_faF"
      }
    },
    {
      "cell_type": "code",
      "source": [
        "sample_string='learnpython'\n",
        "d={}\n",
        "for i in sample_string:\n",
        "  if i in d:\n",
        "    d[i]=d[i]+1\n",
        "  else:\n",
        "    d[i]=1\n",
        "print(d)"
      ],
      "metadata": {
        "colab": {
          "base_uri": "https://localhost:8080/"
        },
        "id": "FTvoXXCn_V_f",
        "outputId": "8cedeb6e-8130-4181-9b00-fc99c4490bb9"
      },
      "execution_count": 26,
      "outputs": [
        {
          "output_type": "stream",
          "name": "stdout",
          "text": [
            "{'l': 1, 'e': 1, 'a': 1, 'r': 1, 'n': 2, 'p': 1, 'y': 1, 't': 1, 'h': 1, 'o': 1}\n"
          ]
        }
      ]
    },
    {
      "cell_type": "markdown",
      "source": [
        "17. Write a Python program to get the top three items in a shop.\n",
        "\n",
        "Sample data: {'item1': 45.50, 'item2':35, 'item3': 41.30, 'item4':55, 'item5': 24}\n",
        "\n",
        "Expected Output:\n",
        "\n",
        "item4 55\n",
        "\n",
        "item1 45.5\n",
        "\n",
        "item3 41.3"
      ],
      "metadata": {
        "id": "nnv2L_UU_7JM"
      }
    },
    {
      "cell_type": "code",
      "source": [
        "sample_data={'item1': 45.50, 'item2':35, 'item3': 41.30, 'item4':55, 'item5': 24}\n",
        "a=list(sample_data.values())\n",
        "d=dict()\n",
        "a.sort(reverse=True)\n",
        "a=a[:3]\n",
        "for i in a:\n",
        "  for j in sample_data.keys():\n",
        "    if(sample_data[j]==i):\n",
        "      print(str(j)+\" \"+str(sample_data[j]))"
      ],
      "metadata": {
        "colab": {
          "base_uri": "https://localhost:8080/"
        },
        "id": "I3ndnp-q_zgT",
        "outputId": "9dc84e8e-aa78-4739-bdc4-a900fcf216bc"
      },
      "execution_count": 28,
      "outputs": [
        {
          "output_type": "stream",
          "name": "stdout",
          "text": [
            "item4 55\n",
            "item1 45.5\n",
            "item3 41.3\n"
          ]
        }
      ]
    }
  ]
}