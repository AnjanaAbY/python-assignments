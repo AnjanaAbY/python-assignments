{
  "nbformat": 4,
  "nbformat_minor": 0,
  "metadata": {
    "colab": {
      "provenance": [],
      "authorship_tag": "ABX9TyMLWWUfH9raByS8++1O0LmT",
      "include_colab_link": true
    },
    "kernelspec": {
      "name": "python3",
      "display_name": "Python 3"
    },
    "language_info": {
      "name": "python"
    }
  },
  "cells": [
    {
      "cell_type": "markdown",
      "metadata": {
        "id": "view-in-github",
        "colab_type": "text"
      },
      "source": [
        "<a href=\"https://colab.research.google.com/github/AnjanaAbY/python-assignments/blob/main/list_dictionary_task.ipynb\" target=\"_parent\"><img src=\"https://colab.research.google.com/assets/colab-badge.svg\" alt=\"Open In Colab\"/></a>"
      ]
    },
    {
      "cell_type": "markdown",
      "source": [
        "1. Write a Python program to sum all the items in a list."
      ],
      "metadata": {
        "id": "A9edFxGUh194"
      }
    },
    {
      "cell_type": "code",
      "execution_count": 1,
      "metadata": {
        "colab": {
          "base_uri": "https://localhost:8080/"
        },
        "id": "MpWwICULhqAR",
        "outputId": "fc866eaa-5530-4f4b-b883-8e4eb47ea859"
      },
      "outputs": [
        {
          "output_type": "stream",
          "name": "stdout",
          "text": [
            "221\n"
          ]
        }
      ],
      "source": [
        "li=[56,89,0,37,5,34]\n",
        "print(sum(li))"
      ]
    },
    {
      "cell_type": "markdown",
      "source": [
        "2. Write a Python program to get the largest number from a list."
      ],
      "metadata": {
        "id": "ryCEnHfEjdJm"
      }
    },
    {
      "cell_type": "code",
      "source": [
        "li=[56,89,0,37,5,34]\n",
        "li.sort()\n",
        "print(li[-1])"
      ],
      "metadata": {
        "colab": {
          "base_uri": "https://localhost:8080/"
        },
        "id": "Z5Q5sUJ2iANu",
        "outputId": "5ac724b4-6961-476e-f19c-d5eb951d241a"
      },
      "execution_count": 2,
      "outputs": [
        {
          "output_type": "stream",
          "name": "stdout",
          "text": [
            "89\n"
          ]
        }
      ]
    },
    {
      "cell_type": "markdown",
      "source": [
        "3. Write a Python program to count the number of strings from a given list of strings. The string length is 2 or more and the first and last characters are the same.\n",
        "\n",
        "Sample List : ['abc', 'xyz', 'aba', '1221']\n",
        "\n",
        "Expected Result : 2\n"
      ],
      "metadata": {
        "id": "KJIeGZAHjelV"
      }
    },
    {
      "cell_type": "code",
      "source": [
        "sample=['abc','xyz','aba','1221']\n",
        "count=0\n",
        "for i in sample:\n",
        "  if len(i)>2 and i[0]==i[-1]:\n",
        "    count=count+1\n",
        "print(count)"
      ],
      "metadata": {
        "colab": {
          "base_uri": "https://localhost:8080/"
        },
        "id": "0hNOltjmiVWU",
        "outputId": "869b202d-c818-4040-d127-3b4b19c9d8fe"
      },
      "execution_count": 3,
      "outputs": [
        {
          "output_type": "stream",
          "name": "stdout",
          "text": [
            "2\n"
          ]
        }
      ]
    },
    {
      "cell_type": "markdown",
      "source": [
        "4. Write a Python program to remove duplicates from a list."
      ],
      "metadata": {
        "id": "EdDMMwdvjkol"
      }
    },
    {
      "cell_type": "code",
      "source": [
        "l1=['abc','123','xyz','abc','678','123']\n",
        "l2=[]\n",
        "for i in l1:\n",
        "  if i not in l2:\n",
        "    l2.append(i)\n",
        "print(l2)"
      ],
      "metadata": {
        "colab": {
          "base_uri": "https://localhost:8080/"
        },
        "id": "YbR_Pdjtilil",
        "outputId": "d295c889-1dd7-4afc-e022-63d0bb92b9e4"
      },
      "execution_count": 4,
      "outputs": [
        {
          "output_type": "stream",
          "name": "stdout",
          "text": [
            "['abc', '123', 'xyz', '678']\n"
          ]
        }
      ]
    },
    {
      "cell_type": "markdown",
      "source": [
        "5. Write a Python program to check if a list is empty or not."
      ],
      "metadata": {
        "id": "isukcwcijopM"
      }
    },
    {
      "cell_type": "code",
      "source": [
        "li=[1,\"hi\",True,\"hello\",123]\n",
        "if len(li)==0:\n",
        "  print(\"list is empty\")\n",
        "else:\n",
        "  print(\"list is not empty\")"
      ],
      "metadata": {
        "colab": {
          "base_uri": "https://localhost:8080/"
        },
        "id": "BSxo4lS9i2BB",
        "outputId": "3a48d3fc-62e1-403b-bdb1-eac3cc6bbbf2"
      },
      "execution_count": 5,
      "outputs": [
        {
          "output_type": "stream",
          "name": "stdout",
          "text": [
            "list is not empty\n"
          ]
        }
      ]
    },
    {
      "cell_type": "markdown",
      "source": [
        "6. Write a Python program to filter the list if the length of the character is < 4\n",
        "\n",
        "Sample List : ['abc', 'xyz', 'aba', '1221']\n",
        "\n",
        "Expected Result: ['abc', 'xyz', 'aba']\n"
      ],
      "metadata": {
        "id": "DJG85h-ajr6I"
      }
    },
    {
      "cell_type": "code",
      "source": [
        "l1=[\"abc\",\"xyz\",\"aba\",\"1221\"]\n",
        "new_list=[]\n",
        "for i in l1:\n",
        "  if len(i)<4:\n",
        "    new_list.append(i)\n",
        "print(new_list)"
      ],
      "metadata": {
        "colab": {
          "base_uri": "https://localhost:8080/"
        },
        "id": "N-lLlXCPjCaa",
        "outputId": "7fb977b0-2436-4792-b997-82aecac3d5ee"
      },
      "execution_count": 6,
      "outputs": [
        {
          "output_type": "stream",
          "name": "stdout",
          "text": [
            "['abc', 'xyz', 'aba']\n"
          ]
        }
      ]
    },
    {
      "cell_type": "markdown",
      "source": [
        "7.Write a Python program to find the second largest number in a list."
      ],
      "metadata": {
        "id": "sA-AV04jjxrK"
      }
    },
    {
      "cell_type": "code",
      "source": [
        "li=[56,89,0,37,5,34]\n",
        "li.sort()\n",
        "print(li[-2])"
      ],
      "metadata": {
        "colab": {
          "base_uri": "https://localhost:8080/"
        },
        "id": "hckgV2CqjX5M",
        "outputId": "55e13494-9bab-4ef7-b370-171ff037ebed"
      },
      "execution_count": 7,
      "outputs": [
        {
          "output_type": "stream",
          "name": "stdout",
          "text": [
            "56\n"
          ]
        }
      ]
    },
    {
      "cell_type": "markdown",
      "source": [
        "8. Write a Python program to reverse a list at a specific location."
      ],
      "metadata": {
        "id": "EPfyaknDlrWR"
      }
    },
    {
      "cell_type": "code",
      "source": [
        "li=[1,\"hi\",True,\"hello\",2,3]\n",
        "p=int(input(\"enter the position:\"))\n",
        "if 0<=p<len(li):\n",
        "  rev=li[:p]+li[:p-1:-1]\n",
        "  print(rev)"
      ],
      "metadata": {
        "colab": {
          "base_uri": "https://localhost:8080/"
        },
        "id": "YRnTAL1Nj8q4",
        "outputId": "8cb9e739-66cc-44d6-c372-fa00c5b73a90"
      },
      "execution_count": 9,
      "outputs": [
        {
          "output_type": "stream",
          "name": "stdout",
          "text": [
            "enter the position:2\n",
            "[1, 'hi', 3, 2, 'hello', True]\n"
          ]
        }
      ]
    },
    {
      "cell_type": "markdown",
      "source": [
        "9. Write a Python program to check if a list is a palindrome or not. Return true otherwise false."
      ],
      "metadata": {
        "id": "ej_1s6xwlpMp"
      }
    },
    {
      "cell_type": "code",
      "source": [
        "user=input(\"enter the string:\")\n",
        "li=list(user)\n",
        "rev=li[::-1]\n",
        "if li==rev:\n",
        "  print(\"True\")\n",
        "else:\n",
        "  print(\"false\")"
      ],
      "metadata": {
        "colab": {
          "base_uri": "https://localhost:8080/"
        },
        "id": "PzZfgj1YkRZ4",
        "outputId": "0c9c2fed-484f-4e0d-bacc-ec3d583b7215"
      },
      "execution_count": 11,
      "outputs": [
        {
          "output_type": "stream",
          "name": "stdout",
          "text": [
            "enter the string:malayalam\n",
            "True\n"
          ]
        }
      ]
    },
    {
      "cell_type": "markdown",
      "source": [
        "10. Write a Python a program to find the union and intersection of two lists."
      ],
      "metadata": {
        "id": "m3x0-v3_llh_"
      }
    },
    {
      "cell_type": "code",
      "source": [
        "a=[1,2,3,4,5]\n",
        "b=[2,3,4,5,6,7]\n",
        "union_of_list=list(set(a+b))\n",
        "print(union_of_list)\n",
        "intersection_of_list=list(set(a)&set(b))\n",
        "print(intersection_of_list)\n"
      ],
      "metadata": {
        "colab": {
          "base_uri": "https://localhost:8080/"
        },
        "id": "9bIrB-kQk3oL",
        "outputId": "fac36099-f849-47d5-bf7a-cc188846905a"
      },
      "execution_count": 13,
      "outputs": [
        {
          "output_type": "stream",
          "name": "stdout",
          "text": [
            "[1, 2, 3, 4, 5, 6, 7]\n",
            "[2, 3, 4, 5]\n"
          ]
        }
      ]
    },
    {
      "cell_type": "markdown",
      "source": [
        "11.Write a Python script to sort (ascending and descending) a dictionary by value"
      ],
      "metadata": {
        "id": "IhLOlG8_mt8i"
      }
    },
    {
      "cell_type": "code",
      "source": [
        "d1={\"hi\":67,\"hello\":34,\"hola\":45,\"bonjour\":98}\n",
        "d2={}\n",
        "sorted_val=sorted(d1.values())\n",
        "for i in sorted_val:\n",
        "  for k,v in d1.items():\n",
        "    if v==i:\n",
        "      d2[k]=v\n",
        "print(\"ascending order:\",d2)\n",
        "d3=dict(reversed(list(d2.items())))\n",
        "print(\"descending order:\",d3)"
      ],
      "metadata": {
        "colab": {
          "base_uri": "https://localhost:8080/"
        },
        "id": "DsGCSZo_mCqI",
        "outputId": "4b7a1cea-a523-4184-c650-d336bd75192f"
      },
      "execution_count": 14,
      "outputs": [
        {
          "output_type": "stream",
          "name": "stdout",
          "text": [
            "ascending order: {'hello': 34, 'hola': 45, 'hi': 67, 'bonjour': 98}\n",
            "descending order: {'bonjour': 98, 'hi': 67, 'hola': 45, 'hello': 34}\n"
          ]
        }
      ]
    },
    {
      "cell_type": "markdown",
      "source": [
        "12. Write a Python script to check whether a given key already exists in a dictionary."
      ],
      "metadata": {
        "id": "GngR9pmqmzd1"
      }
    },
    {
      "cell_type": "code",
      "source": [
        "d1={'abc':1,'def':2,'ghi':3}\n",
        "k1=input(\"enter key you want to check:\")\n",
        "if k1 in d1.keys():\n",
        "  print(k1,\"is already exist in the dictionary\")\n",
        "else:\n",
        "  print(k1,\"is not present in the dictionary\")"
      ],
      "metadata": {
        "colab": {
          "base_uri": "https://localhost:8080/"
        },
        "id": "jUsyth4zmpSD",
        "outputId": "7aca1b88-1763-4574-ebea-fa9626827bc4"
      },
      "execution_count": 15,
      "outputs": [
        {
          "output_type": "stream",
          "name": "stdout",
          "text": [
            "enter key you want to check:def\n",
            "def is already exist in the dictionary\n"
          ]
        }
      ]
    },
    {
      "cell_type": "markdown",
      "source": [
        "13.Write a Python program to sum all the values in a dictionary."
      ],
      "metadata": {
        "id": "U26X15aOpLBY"
      }
    },
    {
      "cell_type": "code",
      "source": [
        "d2={'a':250,'b':28,'c':75,'d':64}\n",
        "s=0\n",
        "for i in d2.values():\n",
        "  s=s+i\n",
        "print(\"sum of values=\",s)"
      ],
      "metadata": {
        "colab": {
          "base_uri": "https://localhost:8080/"
        },
        "id": "VUiFzY3rnOo9",
        "outputId": "c6152efa-9010-4086-988a-0eb14a5c49b7"
      },
      "execution_count": 16,
      "outputs": [
        {
          "output_type": "stream",
          "name": "stdout",
          "text": [
            "sum of values= 417\n"
          ]
        }
      ]
    },
    {
      "cell_type": "markdown",
      "source": [
        "14.Write a Python program to create a dictionary with a number and its corresponding square from 1 to input number. And also check if the input number is less than 10\n",
        "\n",
        "Eg:\n",
        "\n",
        "Input : 3\n",
        "\n",
        "Output : {1:1, 2:4, 3:9}\n"
      ],
      "metadata": {
        "id": "3vS8uKMTpOpp"
      }
    },
    {
      "cell_type": "code",
      "source": [
        "num=int(input(\"enter the input number:\"))\n",
        "d={}\n",
        "for i in range(1,num+1):\n",
        "  if i<10:\n",
        "    d[i]=i**3\n",
        "  else:\n",
        "    print(\"num is not less than 10\")\n",
        "print(d)"
      ],
      "metadata": {
        "colab": {
          "base_uri": "https://localhost:8080/"
        },
        "id": "DCmJecC6ngma",
        "outputId": "3fab5566-7da3-4528-c1f0-21f176b1972a"
      },
      "execution_count": 17,
      "outputs": [
        {
          "output_type": "stream",
          "name": "stdout",
          "text": [
            "enter the input number:9\n",
            "{1: 1, 2: 8, 3: 27, 4: 64, 5: 125, 6: 216, 7: 343, 8: 512, 9: 729}\n"
          ]
        }
      ]
    },
    {
      "cell_type": "markdown",
      "source": [
        "15.Write a Python program to sort a given dictionary by key."
      ],
      "metadata": {
        "id": "4Ej5KeUQpUSZ"
      }
    },
    {
      "cell_type": "code",
      "source": [
        "d={65:'pizza',45:'burger',70:'fries',25:'wrap'}\n",
        "k1=list(d.keys())\n",
        "k1.sort()\n",
        "sorted_list={i:d[i] for i in k1}\n",
        "print(sorted_list)"
      ],
      "metadata": {
        "colab": {
          "base_uri": "https://localhost:8080/"
        },
        "id": "Ds0-6TAAnxaZ",
        "outputId": "8c559931-1acf-4745-bced-1d4edb1a2492"
      },
      "execution_count": 18,
      "outputs": [
        {
          "output_type": "stream",
          "name": "stdout",
          "text": [
            "{25: 'wrap', 45: 'burger', 65: 'pizza', 70: 'fries'}\n"
          ]
        }
      ]
    },
    {
      "cell_type": "markdown",
      "source": [
        "16.  Write a Python program to create a dictionary from a string.\n",
        "\n",
        "Note: Track the count of the letters from the string.\n",
        "\n",
        "Sample string : 'learnpython'\n",
        "\n",
        "Expected output: {'l': 1, 'e': 1, 'a': 1, 'r': 1, 'n': 2, 'p': 1, 'y': 1, 't': 1, 'h': 1, 'o': 1}\n"
      ],
      "metadata": {
        "id": "MlHeLznPpXJ0"
      }
    },
    {
      "cell_type": "code",
      "source": [
        "sample='learnpython'\n",
        "d={}\n",
        "for i in sample:\n",
        "  if i in d:\n",
        "    d[i]=d[i]+1\n",
        "  else:\n",
        "    d[i]=1\n",
        "print(d)"
      ],
      "metadata": {
        "colab": {
          "base_uri": "https://localhost:8080/"
        },
        "id": "j9WQYkSMoI0D",
        "outputId": "a1ac0c9b-0796-4d3b-a027-d2a81a5294b4"
      },
      "execution_count": 19,
      "outputs": [
        {
          "output_type": "stream",
          "name": "stdout",
          "text": [
            "{'l': 1, 'e': 1, 'a': 1, 'r': 1, 'n': 2, 'p': 1, 'y': 1, 't': 1, 'h': 1, 'o': 1}\n"
          ]
        }
      ]
    },
    {
      "cell_type": "markdown",
      "source": [
        "17. Write a Python program to get the top three items in a shop.\n",
        "Sample data: {'item1': 45.50, 'item2':35, 'item3': 41.30, 'item4':55, 'item5': 24}\n",
        "\n",
        "Expected Output:\n",
        "\n",
        "item4 55\n",
        "\n",
        "item1 45.5\n",
        "\n",
        "item3 41.3\n"
      ],
      "metadata": {
        "id": "PPzLHoSIpcgb"
      }
    },
    {
      "cell_type": "code",
      "source": [
        "sample={'item1':45.50,'item2':35,'item3':41.30,'item4':55,'item5':24}\n",
        "a=list(sample.values())\n",
        "d=dict()\n",
        "a.sort(reverse=True)\n",
        "a=a[:3]\n",
        "for i in a:\n",
        "  for j in sample.keys():\n",
        "    if(sample[j]==i):\n",
        "      print(str(j)+\" \"+str(sample[j]))"
      ],
      "metadata": {
        "colab": {
          "base_uri": "https://localhost:8080/"
        },
        "id": "yOO64InPoXTg",
        "outputId": "583ad59a-db33-4368-9c96-e5ddd11b4e42"
      },
      "execution_count": 21,
      "outputs": [
        {
          "output_type": "stream",
          "name": "stdout",
          "text": [
            "item4 55\n",
            "item1 45.5\n",
            "item3 41.3\n"
          ]
        }
      ]
    },
    {
      "cell_type": "code",
      "source": [],
      "metadata": {
        "id": "33I5bCUDo355"
      },
      "execution_count": null,
      "outputs": []
    }
  ]
}