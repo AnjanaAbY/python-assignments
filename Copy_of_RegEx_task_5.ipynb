{
  "nbformat": 4,
  "nbformat_minor": 0,
  "metadata": {
    "colab": {
      "provenance": [],
      "include_colab_link": true
    },
    "kernelspec": {
      "name": "python3",
      "display_name": "Python 3"
    },
    "language_info": {
      "name": "python"
    }
  },
  "cells": [
    {
      "cell_type": "markdown",
      "metadata": {
        "id": "view-in-github",
        "colab_type": "text"
      },
      "source": [
        "<a href=\"https://colab.research.google.com/github/AnjanaAbY/python-assignments/blob/main/Copy_of_RegEx_task_5.ipynb\" target=\"_parent\"><img src=\"https://colab.research.google.com/assets/colab-badge.svg\" alt=\"Open In Colab\"/></a>"
      ]
    },
    {
      "cell_type": "markdown",
      "source": [
        "1. Write a Python program to check that a string contains only a certain set of characters (in this case a-z, A-Z and 0-9).\n",
        "\n"
      ],
      "metadata": {
        "id": "fpQX9wBhb6ox"
      }
    },
    {
      "cell_type": "code",
      "execution_count": 1,
      "metadata": {
        "id": "5HKhizIkbt59",
        "colab": {
          "base_uri": "https://localhost:8080/"
        },
        "outputId": "aeef53cf-ab84-44e1-e929-442d61cd45fe"
      },
      "outputs": [
        {
          "output_type": "stream",
          "name": "stdout",
          "text": [
            "enter the string:dgjgd58fjggk\n",
            "found\n"
          ]
        }
      ],
      "source": [
        "import re\n",
        "txt=input(\"enter the string:\")\n",
        "pattern=re.search(r\"^[a-zA-Z0-9]+$\",txt)\n",
        "if pattern:\n",
        "  print(\"found\")\n",
        "else:\n",
        "  print(\"not found\")"
      ]
    },
    {
      "cell_type": "markdown",
      "source": [
        "2. Write a Python program that matches a string that has an a followed by zero or more b's.\n",
        "\n"
      ],
      "metadata": {
        "id": "rtdxRzltcRtS"
      }
    },
    {
      "cell_type": "code",
      "source": [
        "import re\n",
        "txt=input(\"enter the string:\")\n",
        "pattern = re.search(r'a(b*)',txt)\n",
        "if pattern:\n",
        "    print(\"Match found\")\n",
        "else:\n",
        "    print(\"No match found\")"
      ],
      "metadata": {
        "colab": {
          "base_uri": "https://localhost:8080/"
        },
        "id": "sOX1jw1gI_Dx",
        "outputId": "e01e3711-b9ac-4e7d-dd42-8b762f1869c6"
      },
      "execution_count": 2,
      "outputs": [
        {
          "output_type": "stream",
          "name": "stdout",
          "text": [
            "enter the string:fhkusahfkh\n",
            "Match found\n"
          ]
        }
      ]
    },
    {
      "cell_type": "markdown",
      "source": [
        "-3. Replace only the first occurrence of 5 with five for the given string\n",
        "\n"
      ],
      "metadata": {
        "id": "kyvbz3eNcZri"
      }
    },
    {
      "cell_type": "code",
      "source": [
        "import re\n",
        "ip = 'They ate 5 apples and 5 oranges'\n",
        "x=re.sub(\"\\d\",\"five\",ip,1)\n",
        "print(x)\n"
      ],
      "metadata": {
        "id": "pgZy45dxcqSg",
        "colab": {
          "base_uri": "https://localhost:8080/"
        },
        "outputId": "09d03f60-b478-4255-8282-2a7b7276f937"
      },
      "execution_count": 3,
      "outputs": [
        {
          "output_type": "stream",
          "name": "stdout",
          "text": [
            "They ate five apples and 5 oranges\n"
          ]
        }
      ]
    },
    {
      "cell_type": "markdown",
      "source": [
        "4. Write a Python program that matches a string that has an a followed by three 'b'.\n",
        "\n"
      ],
      "metadata": {
        "id": "h_b1-o6ncuzM"
      }
    },
    {
      "cell_type": "code",
      "source": [
        "import re\n",
        "txt=input(\"enter the string:\")\n",
        "pattern = re.search(r\"ab{3}\",txt)\n",
        "if pattern:\n",
        "    print(\"Match found\")\n",
        "else:\n",
        "    print(\"No match found\")"
      ],
      "metadata": {
        "id": "eWIRl3LccqwE",
        "colab": {
          "base_uri": "https://localhost:8080/"
        },
        "outputId": "74cafb84-1c1d-4b9a-dc95-0abe2aae8f22"
      },
      "execution_count": 5,
      "outputs": [
        {
          "output_type": "stream",
          "name": "stdout",
          "text": [
            "enter the string:abbb\n",
            "Match found\n"
          ]
        }
      ]
    },
    {
      "cell_type": "markdown",
      "source": [
        "5. Write a Python program that matches a string that has an 'a' followed by anything ending in\n",
        "'b'."
      ],
      "metadata": {
        "id": "vGe7SoJyQxXY"
      }
    },
    {
      "cell_type": "code",
      "source": [
        "import re\n",
        "txt=input(\"enter the string:\")\n",
        "pattern = re.search(r\"^a.*b$\",txt)\n",
        "if pattern:\n",
        "    print(\"Match found\")\n",
        "else:\n",
        "    print(\"No match found\")\n"
      ],
      "metadata": {
        "id": "f8KfX59qc3UJ",
        "colab": {
          "base_uri": "https://localhost:8080/"
        },
        "outputId": "01b42110-d38c-4638-ef7d-16f086f4781a"
      },
      "execution_count": 6,
      "outputs": [
        {
          "output_type": "stream",
          "name": "stdout",
          "text": [
            "enter the string:agydgifb\n",
            "Match found\n"
          ]
        }
      ]
    },
    {
      "cell_type": "markdown",
      "source": [
        "6. Write a Python program to search for numbers (0-9) of length between 1 and 3 in a given string."
      ],
      "metadata": {
        "id": "NyL-DhqXdZi7"
      }
    },
    {
      "cell_type": "code",
      "source": [
        "import re\n",
        "txt=\"Exercises number 1, 12, 13, and 345 are important\"\n",
        "pattern=re.findall(r\"\\d{1,3}\",txt)\n",
        "for i in pattern :\n",
        "  print(i)"
      ],
      "metadata": {
        "id": "pWsu0HljdnKX",
        "colab": {
          "base_uri": "https://localhost:8080/"
        },
        "outputId": "aa251ff8-a2c0-42d6-80ac-bae44c4712e9"
      },
      "execution_count": 7,
      "outputs": [
        {
          "output_type": "stream",
          "name": "stdout",
          "text": [
            "1\n",
            "12\n",
            "13\n",
            "345\n"
          ]
        }
      ]
    },
    {
      "cell_type": "markdown",
      "source": [
        "7. Write a Python program to search for literal strings within a string.\\\n",
        "Sample text : 'The quick brown fox jumps over the lazy dog.' \\\n",
        "Searched words : 'fox', 'dog', 'horse'"
      ],
      "metadata": {
        "id": "aWaHWXFjdqy7"
      }
    },
    {
      "cell_type": "code",
      "source": [
        "import re\n",
        "sample_text='The quick brown fox jumps over the lazy dog.'\n",
        "searched_words='fox', 'dog', 'horse'\n",
        "for word in searched_words:\n",
        "  if re.search(word,sample_text):\n",
        "    print(word,\"found\")\n",
        "  else:\n",
        "    print(word,\"not found\")"
      ],
      "metadata": {
        "id": "bVAMeTMddnmf",
        "colab": {
          "base_uri": "https://localhost:8080/"
        },
        "outputId": "e76d48ba-1383-4117-9a63-3a36002489e0"
      },
      "execution_count": 9,
      "outputs": [
        {
          "output_type": "stream",
          "name": "stdout",
          "text": [
            "fox found\n",
            "dog found\n",
            "horse not found\n"
          ]
        }
      ]
    },
    {
      "cell_type": "markdown",
      "source": [
        "8. Write a Python program to search for a literal string in a string and also find the location within the original string where the pattern occurs.\n",
        "\n",
        "Sample text : 'The quick brown fox jumps over the lazy dog.' \\\n",
        "Searched words : 'fox'"
      ],
      "metadata": {
        "id": "2cgZLc6Yd0sE"
      }
    },
    {
      "cell_type": "code",
      "source": [
        "import re\n",
        "sample_text='The quick brown fox jumps over the lazy dog.'\n",
        "search_word='fox'\n",
        "pattern=re.search(search_word,sample_text)\n",
        "print(\"search word begins at position\",pattern.start())"
      ],
      "metadata": {
        "id": "Tj1FCCx4d3zZ",
        "colab": {
          "base_uri": "https://localhost:8080/"
        },
        "outputId": "2cae6e2e-4f7f-40cc-e2d1-0b47c2702312"
      },
      "execution_count": 10,
      "outputs": [
        {
          "output_type": "stream",
          "name": "stdout",
          "text": [
            "search word begins at position 16\n"
          ]
        }
      ]
    },
    {
      "cell_type": "markdown",
      "source": [
        "9.  Write a Python program to extract year, month and date from an URL"
      ],
      "metadata": {
        "id": "ixuwdsnvdtcP"
      }
    },
    {
      "cell_type": "code",
      "source": [
        "import re\n",
        "url1= \"https://www.washingtonpost.com/news/football-insider/wp/2016/09/02/odell-beckhams-fame-rests-on-one-stupid-little-ball-josh-norman-tells-author/\"\n",
        "print(re.findall(r'/(\\d{4})/(\\d{2})/(\\d{2})/',url1))"
      ],
      "metadata": {
        "id": "uWA2_OfJeFpw",
        "colab": {
          "base_uri": "https://localhost:8080/"
        },
        "outputId": "8c95921e-fc92-4af8-d5c4-f949f5f6daf4"
      },
      "execution_count": 11,
      "outputs": [
        {
          "output_type": "stream",
          "name": "stdout",
          "text": [
            "[('2016', '09', '02')]\n"
          ]
        }
      ]
    },
    {
      "cell_type": "markdown",
      "source": [
        "10. Write a Python program to find URLs in a string.\n",
        "\n"
      ],
      "metadata": {
        "id": "Qdob8Ojkea-W"
      }
    },
    {
      "cell_type": "code",
      "source": [
        "import re\n",
        "text = '<p>Contents :</p><a href=\"https://w3resource.com\">Python Examples</a><a href=\"http://github.com\">Even More Examples</a>'\n",
        "pattern=r\"http[s]?://\\w+[.][a-z]{1,3}\"\n",
        "urls=re.findall(pattern,text)\n",
        "for url in urls:\n",
        "  print(url)"
      ],
      "metadata": {
        "id": "d9KUcdQEeIJu",
        "colab": {
          "base_uri": "https://localhost:8080/"
        },
        "outputId": "4b3bd7b2-069e-40bd-a539-e4f7b920894a"
      },
      "execution_count": 12,
      "outputs": [
        {
          "output_type": "stream",
          "name": "stdout",
          "text": [
            "https://w3resource.com\n",
            "http://github.com\n"
          ]
        }
      ]
    },
    {
      "cell_type": "markdown",
      "source": [
        "11. Write a Python program to remove the parenthesis area in a string.\\\n",
        "\n",
        "Sample data : [\"example (.com)\", \"w3resource\", \"github (.com)\", \"stackoverflow (.com)\"] \\\n",
        "Expected Output: \\\n",
        "example  \\\n",
        "w3resource \\\n",
        "github  \\\n",
        "stackoverflow. \\\n",
        "\n"
      ],
      "metadata": {
        "id": "5mX_cCEFepSi"
      }
    },
    {
      "cell_type": "code",
      "source": [
        "import re\n",
        "txt=[\"example (.com)\", \"w3resource\", \"github (.com)\", \"stackoverflow (.com)\"]\n",
        "for t in txt:\n",
        "  print(re.sub(r'\\([^)]*\\)',' ',t))\n"
      ],
      "metadata": {
        "id": "CNYOSWfLee_M",
        "colab": {
          "base_uri": "https://localhost:8080/"
        },
        "outputId": "ea8e94d8-0cfe-4767-d978-b7785930a294"
      },
      "execution_count": 13,
      "outputs": [
        {
          "output_type": "stream",
          "name": "stdout",
          "text": [
            "example  \n",
            "w3resource\n",
            "github  \n",
            "stackoverflow  \n"
          ]
        }
      ]
    },
    {
      "cell_type": "markdown",
      "source": [
        "12. Write a Python program to concatenate the consecutive numbers in a given string. \\\n",
        "\n",
        "Original string:  \\\n",
        "Enter at 1 20 Kearny Street. The security desk can direct you to floor 1 6. Please have your identification ready.  \\\n",
        "\n",
        "After concatenating the consecutive numbers in the said string:  \\\n",
        "Enter at 120 Kearny Street. The security desk can direct you to floor 16. Please have your identification ready."
      ],
      "metadata": {
        "id": "sRhveFHXe7nz"
      }
    },
    {
      "cell_type": "code",
      "source": [
        "import re\n",
        "original_string=\"Enter at 1 20 Kearny Street. The security desk can direct you to floor 1 6. Please have your identification ready.\"\n",
        "after_concatenation=re.sub(r\"(\\d+)\\s(\\d+)\",r'\\1\\2',original_string)\n",
        "print(after_concatenation)"
      ],
      "metadata": {
        "id": "4dcBL0RTe_zP",
        "colab": {
          "base_uri": "https://localhost:8080/"
        },
        "outputId": "e9219ee3-7790-4d33-de5f-23437d3d73fd"
      },
      "execution_count": 15,
      "outputs": [
        {
          "output_type": "stream",
          "name": "stdout",
          "text": [
            "Enter at 120 Kearny Street. The security desk can direct you to floor 16. Please have your identification ready.\n"
          ]
        }
      ]
    },
    {
      "cell_type": "markdown",
      "source": [],
      "metadata": {
        "id": "rENrD10afBB3"
      }
    }
  ]
}