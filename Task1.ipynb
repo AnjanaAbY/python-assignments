{
  "nbformat": 4,
  "nbformat_minor": 0,
  "metadata": {
    "colab": {
      "provenance": [],
      "authorship_tag": "ABX9TyP1Suo5CvAp42UWgV0gH+fh",
      "include_colab_link": true
    },
    "kernelspec": {
      "name": "python3",
      "display_name": "Python 3"
    },
    "language_info": {
      "name": "python"
    }
  },
  "cells": [
    {
      "cell_type": "markdown",
      "metadata": {
        "id": "view-in-github",
        "colab_type": "text"
      },
      "source": [
        "<a href=\"https://colab.research.google.com/github/AnjanaAbY/python-assignments/blob/main/Task1.ipynb\" target=\"_parent\"><img src=\"https://colab.research.google.com/assets/colab-badge.svg\" alt=\"Open In Colab\"/></a>"
      ]
    },
    {
      "cell_type": "markdown",
      "source": [
        "1. Write a python program to find those numbers which are divisible by 7 and multiples of 5, for user input"
      ],
      "metadata": {
        "id": "BZjL_lVTevy7"
      }
    },
    {
      "cell_type": "code",
      "execution_count": 2,
      "metadata": {
        "colab": {
          "base_uri": "https://localhost:8080/"
        },
        "id": "PpXZt8JWeu2n",
        "outputId": "d678ce28-7db0-46cc-c51b-2f68a76d7f39"
      },
      "outputs": [
        {
          "output_type": "stream",
          "name": "stdout",
          "text": [
            "enter the number:70\n",
            "70 is divisible by 7 and multiple of 5\n"
          ]
        }
      ],
      "source": [
        "num=int(input(\"enter the number:\"))\n",
        "if(num%7==0 and num%5==0):\n",
        "  print(num,\"is divisible by 7 and multiple of 5\")\n",
        "else:\n",
        "  print(num,\"is not divisible by 7 nor multiple of 5\")"
      ]
    },
    {
      "cell_type": "markdown",
      "source": [
        "2. Write a python pgm to check the user input is even or odd or zero"
      ],
      "metadata": {
        "id": "lNBT4YpUfnO6"
      }
    },
    {
      "cell_type": "code",
      "source": [
        "num=int(input(\"enter the num:\"))\n",
        "if(num==0):\n",
        "  print(num,\"is zero\")\n",
        "elif (num%2==0):\n",
        "  print(num,\"is even\")\n",
        "else:\n",
        "  print(num,\"is odd\")"
      ],
      "metadata": {
        "colab": {
          "base_uri": "https://localhost:8080/"
        },
        "id": "d_nIJE_JfO7J",
        "outputId": "7778ac2f-6340-47b5-c484-9aeec900a183"
      },
      "execution_count": 4,
      "outputs": [
        {
          "output_type": "stream",
          "name": "stdout",
          "text": [
            "enter the num:10\n",
            "10 is even\n"
          ]
        }
      ]
    },
    {
      "cell_type": "markdown",
      "source": [
        "3. Print decimal part of an input number. If the decimal part is zero print the\n",
        "\n",
        "string : “INTEGER”"
      ],
      "metadata": {
        "id": "U_VMZl0EgAc-"
      }
    },
    {
      "cell_type": "code",
      "source": [
        "num=float(input(\"enter the num:\"))\n",
        "n=num%1\n",
        "if (n==0):\n",
        "  print(round(num),\"is integer\")\n",
        "else:\n",
        "  print(round(n,3),\"is the decimal part of\",num)"
      ],
      "metadata": {
        "colab": {
          "base_uri": "https://localhost:8080/"
        },
        "id": "Rqhb8lZCf6aY",
        "outputId": "ff401e7f-7f57-4d8f-9f18-064704986db2"
      },
      "execution_count": 5,
      "outputs": [
        {
          "output_type": "stream",
          "name": "stdout",
          "text": [
            "enter the num:45.97467\n",
            "0.975 is the decimal part of 45.97467\n"
          ]
        }
      ]
    },
    {
      "cell_type": "code",
      "source": [],
      "metadata": {
        "id": "avC7JlFcgT8W"
      },
      "execution_count": null,
      "outputs": []
    }
  ]
}